{
 "cells": [
  {
   "cell_type": "markdown",
   "metadata": {},
   "source": []
  },
  {
   "cell_type": "markdown",
   "metadata": {},
   "source": [
    "Import the Jupyter / PlantGL module"
   ]
  },
  {
   "cell_type": "code",
   "execution_count": 206,
   "metadata": {},
   "outputs": [],
   "source": [
    "from pgljupyter import *"
   ]
  },
  {
   "cell_type": "markdown",
   "metadata": {},
   "source": [
    "Run a simple LPy module"
   ]
  },
  {
   "cell_type": "code",
   "execution_count": 841,
   "metadata": {},
   "outputs": [
    {
     "data": {
      "application/vnd.jupyter.widget-view+json": {
       "model_id": "1be2f6d6c9de48fd833244523d910940",
       "version_major": 2,
       "version_minor": 0
      },
      "text/plain": [
       "LsystemWidget(animate=True, derivationLength=6, is_magic=True, scene={'data': b'x\\xdaSLrw\\xf5\\xf7e`Pp\\xe0\\xe5R…"
      ]
     },
     "metadata": {},
     "output_type": "display_data"
    }
   ],
   "source": [
    "%%lpy -w 10 -a True\n",
    "from random import random \n",
    "MAX_AGE, dr = 10, 0.03 # constants\n",
    "module Apex(age), Internode(length,radius)\n",
    "Axiom: @Gc Apex(0)\n",
    "derivation length: 5\n",
    "production:\n",
    "Apex(age) :\n",
    "  if age < MAX_AGE:\n",
    "    produce Internode(1+ random(),0.03) /(137)[+(30)Apex(age+1)]Apex(age+1)\n",
    "\n",
    "Internode(l,r) --> Internode(l,r+dr)\n",
    "interpretation:\n",
    "Internode(l,r) --> _(r) F(l)\n",
    "endlsystem"
   ]
  },
  {
   "cell_type": "markdown",
   "metadata": {},
   "source": [
    "Tomato model from Fred"
   ]
  },
  {
   "cell_type": "code",
   "execution_count": 842,
   "metadata": {},
   "outputs": [
    {
     "data": {
      "application/vnd.jupyter.widget-view+json": {
       "model_id": "9846aec57d2d4790a7dfa2eedc8df827",
       "version_major": 2,
       "version_minor": 0
      },
      "text/plain": [
       "LsystemWidget(animate=True, derivationLength=51, is_magic=True, scene={'data': b'x\\xdaSLrw\\xf5\\xf7e`Pp\\xe0\\xe5…"
      ]
     },
     "metadata": {},
     "output_type": "display_data"
    }
   ],
   "source": [
    "%%lpy -w 10 -a True\n",
    "from random import *\n",
    "\n",
    "module Support\n",
    "module Apex(tts)\n",
    "module DormantBud\n",
    "module Inflorescence\n",
    "\n",
    "phyllochrone = 20\n",
    "daytemp = None\n",
    "\n",
    "def StartEach():\n",
    "  global daytemp\n",
    "  daytemp = 5\n",
    "\n",
    "Axiom: Support ,(2) _(0.05) Apex(0, 1)\n",
    "\n",
    "derivation length: 50\n",
    "production:\n",
    "\n",
    "Apex(tts, state):\n",
    "  global daytemp, phyllochrone\n",
    "  if tts >= phyllochrone:\n",
    "    nproduce [ &(60) Leaf(0) ] \n",
    "    if state == 3:\n",
    "       nproduce [&(30) Inflorescence(0) ]\n",
    "    else:\n",
    "       if random() < 0.5:\n",
    "          nproduce [&(30) DormantBud(0, randint(20,30)) ]\n",
    "    state = state % 3\n",
    "    state +=1\n",
    "    tts -= phyllochrone\n",
    "  nproduce /(144) Segment()\n",
    "  produce Apex(tts+daytemp, state)\n",
    "\n",
    "\n",
    "DormantBud(tts, dtype):\n",
    "  tts+=daytemp\n",
    "  if tts >= dtype:\n",
    "    nproduce Apex(0,1)\n",
    "  else:\n",
    "    produce DormantBud(tts, dtype)\n",
    "\n",
    "interpretation:\n",
    "Segment() --> F(0.1)\n",
    "Leaf(tts) --> ~l(0.5)\n",
    "Inflorescence(tts) :\n",
    "  for i in range(5):\n",
    "    nproduce @Tp(0,0,-1) @Ts(0.2) _(0.02) F(0.2)[+(90)F(0.2) ,(3) @O(0.1)][-(90)F(0.2) ,(3) @O(0.1)]\n",
    "\n",
    "#Support :\n",
    "#  nproduce  [@M(0,1)  &(90) \n",
    "#  for i in range(20):\n",
    "#    nproduce +(30) &(-5) F(0.5) @v\n",
    "#  nproduce ]\n",
    "\n",
    "endlsystem\n"
   ]
  },
  {
   "cell_type": "markdown",
   "metadata": {},
   "source": [
    "Develop the model further"
   ]
  },
  {
   "cell_type": "code",
   "execution_count": 843,
   "metadata": {},
   "outputs": [
    {
     "data": {
      "application/vnd.jupyter.widget-view+json": {
       "model_id": "a176873b280f45299d5277e93b9f7ab3",
       "version_major": 2,
       "version_minor": 0
      },
      "text/plain": [
       "LsystemWidget(animate=True, derivationLength=51, is_magic=True, scene={'data': b'x\\xdaSLrw\\xf5\\xf7e`Pp\\xe0\\xe5…"
      ]
     },
     "metadata": {},
     "output_type": "display_data"
    }
   ],
   "source": [
    "%%lpy -w 10 -a True\n",
    "from random import *\n",
    "\n",
    "module Support\n",
    "module Apex(tts)\n",
    "module DormantBud\n",
    "module Inflorescence\n",
    "\n",
    "phyllochrone = 20\n",
    "daytemp = None\n",
    "\n",
    "def StartEach():\n",
    "  global daytemp\n",
    "  daytemp = 5\n",
    "\n",
    "Axiom: Support ,(2) _(0.05) Apex(0, 1)\n",
    "\n",
    "derivation length: 50\n",
    "production:\n",
    "\n",
    "Apex(tts, state):\n",
    "  global daytemp, phyllochrone\n",
    "  if tts >= phyllochrone:\n",
    "    nproduce [ &(60) Leaf(0) ] \n",
    "    if state == 3:\n",
    "       nproduce [&(30) Inflorescence(0) ]\n",
    "    else:\n",
    "       if random() < 0.5:\n",
    "          nproduce [&(30) DormantBud(0, randint(20,30)) ]\n",
    "    state = state % 3\n",
    "    state +=1\n",
    "    tts -= phyllochrone\n",
    "  nproduce /(144) Segment()\n",
    "  produce Apex(tts+daytemp, state)\n",
    "\n",
    "\n",
    "DormantBud(tts, dtype):\n",
    "  tts+=daytemp\n",
    "  if tts >= dtype:\n",
    "    nproduce Apex(0,1)\n",
    " # else:\n",
    " #   produce DormantBud(tts, dtype)\n",
    "\n",
    "interpretation:\n",
    "Segment() --> F(0.1)\n",
    "\n",
    "Leaf(tts) --> ~l(0.5)\n",
    "\n",
    "Inflorescence(tts) :\n",
    "  for i in range(5):\n",
    "    nproduce @Tp(0,0,-1) @Ts(0.2) _(0.02) F(0.2)[+(90)F(0.2) ,(3) @O(0.1)][-(90)F(0.2) ,(3) @O(0.1)]\n",
    "\n",
    "#Support :\n",
    "#  nproduce  [@M(0,1)  &(90) \n",
    "#  for i in range(20):\n",
    "#    nproduce +(30) &(-5) F(0.5) @v\n",
    "#  nproduce ]\n",
    "\n",
    "endlsystem"
   ]
  },
  {
   "cell_type": "markdown",
   "metadata": {},
   "source": [
    "Have a go at making a simple leaf"
   ]
  },
  {
   "cell_type": "code",
   "execution_count": 844,
   "metadata": {},
   "outputs": [
    {
     "data": {
      "application/vnd.jupyter.widget-view+json": {
       "model_id": "ed269ba791b24d59bbfa291d96700480",
       "version_major": 2,
       "version_minor": 0
      },
      "text/plain": [
       "LsystemWidget(animate=True, derivationLength=21, is_magic=True, scene={'data': b'x\\xdaSLrw\\xf5\\xf7e`Pp\\xe0\\xe5…"
      ]
     },
     "metadata": {},
     "output_type": "display_data"
    }
   ],
   "source": [
    "%%lpy -w 10 -a True\n",
    "\n",
    "from math import exp\n",
    "\n",
    "#this is a definition of the logistic growth function\n",
    "def growth_logistic(t, L, tip, b):\n",
    "    return L / (1+exp(-(t-tip)/b))\n",
    "\n",
    "#phyllochrone is an arbitrary measure of time\n",
    "phyllochrone = 1\n",
    "#Li is involved in Internode\n",
    "Li = 0.5\n",
    "#Lf is involved in Leaf\n",
    "Lf = 1\n",
    "#dt is a timestep\n",
    "dt = 0.5\n",
    "\n",
    "#tip is a function of time and leaf\n",
    "tip = phyllochrone/2\n",
    "#bi\n",
    "b_i = 0.15\n",
    "#bf \n",
    "b_f = 0.3\n",
    "\n",
    "#three components, Apex, Leaf and Internode\n",
    "Axiom:  I(0) L(0) A(0)\n",
    "derivation length: 20\n",
    "production:\n",
    "A(t): \n",
    "    if t > phyllochrone : produce  L(0) /(180) L(0)/(180) I(0) A(0)\n",
    "    else: produce A(t+dt)\n",
    "\n",
    "I(t) --> I(t+dt)\n",
    "L(t) --> L(t+dt)\n",
    "\n",
    "interpretation:\n",
    "I(t) --> F(growth_logistic(t, Li, tip, b_i))\n",
    "L(t) --> [&(90*min(1,t)),(2) ~l(growth_logistic(t, Lf, tip, b_f))]"
   ]
  },
  {
   "cell_type": "markdown",
   "metadata": {},
   "source": [
    "Simple tomato leaf"
   ]
  },
  {
   "cell_type": "code",
   "execution_count": 845,
   "metadata": {},
   "outputs": [
    {
     "data": {
      "application/vnd.jupyter.widget-view+json": {
       "model_id": "3a31b3a2947d404b88535fd2a85ba1ce",
       "version_major": 2,
       "version_minor": 0
      },
      "text/plain": [
       "LsystemWidget(animate=True, derivationLength=2, is_magic=True, scene={'data': b'x\\xda\\x8dU\\xcfo\\x12A\\x14~\\x80\\…"
      ]
     },
     "metadata": {},
     "output_type": "display_data"
    }
   ],
   "source": [
    "%%lpy -w 10 -a True\n",
    "\n",
    "leafscales = [0.5,1.5,1,0.5]\n",
    "minileaf=[1,1.5]\n",
    "\n",
    "Axiom:  \n",
    " for i in leafscales:\n",
    "    nproduce F(1) /(180) [,1+(270)~l(i)] [,1+(90)~l(i)]\n",
    "\n",
    " produce F(1) ~l(2)\n",
    "\n"
   ]
  },
  {
   "cell_type": "markdown",
   "metadata": {},
   "source": [
    "Another go at making a decent leaf"
   ]
  },
  {
   "cell_type": "code",
   "execution_count": 992,
   "metadata": {},
   "outputs": [
    {
     "data": {
      "application/vnd.jupyter.widget-view+json": {
       "model_id": "0df4c1dc13e54628b70fd791881c3fc1",
       "version_major": 2,
       "version_minor": 0
      },
      "text/plain": [
       "LsystemWidget(animate=True, derivationLength=171, is_magic=True, scene={'data': b'x\\xdaSLrw\\xf5\\xf7e`Pp\\xe0\\xe…"
      ]
     },
     "metadata": {},
     "output_type": "display_data"
    }
   ],
   "source": [
    "%%lpy -w 10 -a True\n",
    "\n",
    "import random \n",
    "\n",
    "from numpy.random import seed\n",
    "from numpy.random import rand\n",
    "seed(1)\n",
    "\n",
    "module Leaf\n",
    "module MinLeaf\n",
    "\n",
    "leafscales = [0.5,1.5,1,0.5]\n",
    "Axiom: ,(2) _(0.05) Leaf LeafMin A(0) \n",
    "derivation length: 170\n",
    "production:\n",
    "\n",
    "#Leaf(tts) : \n",
    "# for x in leafscales:\n",
    "#   nproduce F(0.3) LeafMin(x) /(180) LeafMin(x) \n",
    "#   if x < 4:\n",
    "#    for y in range(random.randint(1, 3)):\n",
    "#      values = rand(10)\n",
    "#      nproduce F(0.2)[-~l(values[y])] /(180) [+~l(values[y])]\n",
    "# produce F(0.1)-(70) LeafMin(1)\n",
    "\n",
    "Leaf(tts): \n",
    " for x in leafscales:\n",
    "    nproduce F(0.3) LeafMin(x) /(180) LeafMin(x) \n",
    "    randchoice = random.randint(1,3)\n",
    "    for y in range(randchoice):\n",
    "     values = rand(10)\n",
    "     nproduce F(0.2)[-~l(values[y])] /(180)[+~l(values[y])]\n",
    " produce F(0.1) -(70) LeafMin(1)\n",
    "\n",
    "\n",
    "\n",
    "LeafMin(tts) :\n",
    " produce  [+(70)F(tts*0.3)&(90) [\\(120)&(90)~l(tts*0.5)] [\\(60)&(270)~l(tts*0.5)] ^(90)F(tts*0.5)~l(tts*0.7)] \n",
    "\n",
    "A(n):\n",
    "  produce F(0) Leaf(0)\n",
    "\n",
    "interpretation:\n",
    "\n",
    "endlsystem"
   ]
  },
  {
   "cell_type": "markdown",
   "metadata": {},
   "source": [
    "Working out how modules production and interpretation works"
   ]
  },
  {
   "cell_type": "code",
   "execution_count": 993,
   "metadata": {},
   "outputs": [
    {
     "data": {
      "application/vnd.jupyter.widget-view+json": {
       "model_id": "8a716fd9f49749a88f2d3190dc128d95",
       "version_major": 2,
       "version_minor": 0
      },
      "text/plain": [
       "LsystemWidget(animate=True, derivationLength=11, is_magic=True, scene={'data': b'x\\xdaSLrw\\xf5\\xf7e`Pp\\xe0\\xe5…"
      ]
     },
     "metadata": {},
     "output_type": "display_data"
    }
   ],
   "source": [
    "%%lpy -w 10 -a True\n",
    "\n",
    "# Leafy axis\n",
    "from openalea.plantgl.all import *\n",
    "from math import * \n",
    "\n",
    "scaling = 5    # to dilate/contract the leaf\n",
    "phi = 180      # Phyllotactic angle\n",
    "h = 1          # height of an internode\n",
    "\n",
    "module Leaf\n",
    "module Fruit\n",
    "\n",
    "Axiom: /(90)F(h) A(0)\n",
    "derivation length: 10\n",
    "\n",
    "production:\n",
    "\n",
    "# try ^(-90)f(0.05)^(90) to translate the leaf on the periphery of the stem\n",
    "A(n):\n",
    "  produce [^(-45)Leaf(scaling)]F(h)[^(-45)Leaf(scaling)]F(h)[^(-45)Fruit(scaling)] F(h)/(phi)A(n+1) \n",
    "\n",
    "interpretation:\n",
    "maximum depth: 2\n",
    "\n",
    "# Organ definitions\n",
    "Leaf(x) --> ~l\n",
    "Fruit(x) --> F@O(0.5)\n",
    "A(n) --> ;(2) @O(0.2)\n",
    "\n",
    "\n",
    "\n",
    "\n",
    "endlsystem\n"
   ]
  },
  {
   "cell_type": "markdown",
   "metadata": {},
   "source": [
    "Try again integrating a new leaf "
   ]
  },
  {
   "cell_type": "code",
   "execution_count": 1031,
   "metadata": {},
   "outputs": [
    {
     "data": {
      "application/vnd.jupyter.widget-view+json": {
       "model_id": "12942e4decdf4adc88282b51964125c3",
       "version_major": 2,
       "version_minor": 0
      },
      "text/plain": [
       "LsystemWidget(animate=True, derivationLength=151, is_magic=True, scene={'data': b'x\\xdaSLrw\\xf5\\xf7e`Pp\\xe0\\xe…"
      ]
     },
     "metadata": {},
     "output_type": "display_data"
    }
   ],
   "source": [
    "%%lpy -w 10 -a True\n",
    "\n",
    "from random import *\n",
    "from random import randrange\n",
    "from numpy.random import seed\n",
    "from numpy.random import rand\n",
    "\n",
    "\n",
    "module Apex\n",
    "module DormantBud\n",
    "module Inflorescence\n",
    "module LatApex\n",
    "module LeafMin\n",
    "module Leaf\n",
    "\n",
    "phyllochrone = 40\n",
    "daytemp = None\n",
    "juv = 0\n",
    "seed(1)\n",
    "leafscales = [0.5,1.5,1,0.5]\n",
    "\n",
    "def StartEach():\n",
    "  global daytemp \n",
    "  daytemp = 5\n",
    "  \n",
    "Axiom: Support ,(2) _(0.05) Apex(0, 1) Leaf LeafMin\n",
    "\n",
    "derivation length: 150\n",
    "\n",
    "production:  \n",
    "\n",
    "\n",
    "LeafMin(tts):\n",
    " produce [+(70)F(tts*0.3)&(90) [\\(120)&(90)~l(tts*0.5)] [\\(60)&(270)~l(tts*0.5)] ^(90)F(tts*0.5)~l(tts*0.7)] \n",
    "\n",
    "Leaf(tts): \n",
    " for x in leafscales:\n",
    "    nproduce F(0.3) LeafMin(x) /(180) LeafMin(x) \n",
    "    randchoice = randrange(0, 4)\n",
    "    for y in range (0,3):\n",
    "     values = rand(10)\n",
    "     nproduce F(0.2)[-~l(values[y])] /(180)[+~l(values[y])]\n",
    "    # continue\n",
    " produce F(0.1) -(70) LeafMin(1)\n",
    "\n",
    "\n",
    "Apex(tts, state):\n",
    " global daytemp, phyllochrone, juv\n",
    " \n",
    " if tts >= phyllochrone:\n",
    "   nproduce [ &(60) Leaf(0) ] \n",
    "   if juv>7:\n",
    "      if random() < 0.5 and state <3 :\n",
    "        nproduce [&(30) DormantBud(0, randint(20,30)) ]\n",
    "        state +=1\n",
    "      elif state == 3:\n",
    "        nproduce [ &(60) Leaf(0) ]\n",
    "        nproduce [&(30) Inflorescence(0) ]\n",
    "        state = 0\n",
    "      else:\n",
    "        nproduce [ &(60) Leaf(0) ]\n",
    "        state +=1\n",
    "   else:\n",
    "      nproduce [ &(60) Leaf(0) ]\n",
    "   \n",
    "   juv +=1\n",
    "   tts -= phyllochrone\n",
    " \n",
    " nproduce /(144) Segment()\n",
    " produce Apex(tts+daytemp, state)\n",
    "\n",
    "LatApex(tts, state):\n",
    "  global daytemp, phyllochrone\n",
    "  if tts >= phyllochrone:\n",
    "    nproduce [ &(60) Leaf(0) ] \n",
    "    if state == 3:\n",
    "      nproduce [&(30) Inflorescence(0) ]\n",
    "    else:\n",
    "       if random() < 0.5:\n",
    "          nproduce [&(30) DormantBud(0, randint(20,30)) ]\n",
    "    state = state % 3\n",
    "    state +=1\n",
    "    tts -= phyllochrone\n",
    "  nproduce /(144) Segment()\n",
    "  produce LatApex(tts+daytemp, state)\n",
    "\n",
    "DormantBud(tts, dtype):\n",
    "  tts+=daytemp\n",
    "  if tts >= dtype:\n",
    "    nproduce LatApex(0,1)\n",
    "  else:\n",
    "    produce DormantBud(tts, dtype)\n",
    "\n",
    "interpretation:\n",
    "\n",
    "Segment() --> F(0.1)\n",
    "\n",
    "Inflorescence(tts):\n",
    "  for i in range(5):\n",
    "   nproduce @Tp(0,0,-1) @Ts(0.2) _(0.02) F(0.2)[+(90)F(0.2) ,(3) @O(0.1)][-(90)F(0.2) ,(3) @O(0.1)]\n",
    "\n",
    "endlsystem"
   ]
  },
  {
   "cell_type": "code",
   "execution_count": null,
   "metadata": {},
   "outputs": [],
   "source": []
  }
 ],
 "metadata": {
  "interpreter": {
   "hash": "4c537cbc157749f9baf3f8c7ca19b08401589334018283e78f33b2f01cc5d73d"
  },
  "kernelspec": {
   "display_name": "Python 3.9.7 64-bit ('lsystems': conda)",
   "language": "python",
   "name": "python3"
  },
  "language_info": {
   "codemirror_mode": {
    "name": "ipython",
    "version": 3
   },
   "file_extension": ".py",
   "mimetype": "text/x-python",
   "name": "python",
   "nbconvert_exporter": "python",
   "pygments_lexer": "ipython3",
   "version": "3.9.7"
  },
  "orig_nbformat": 4
 },
 "nbformat": 4,
 "nbformat_minor": 2
}
