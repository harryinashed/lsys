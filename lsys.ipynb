{
 "cells": [
  {
   "cell_type": "markdown",
   "metadata": {},
   "source": []
  },
  {
   "cell_type": "markdown",
   "metadata": {},
   "source": [
    "Import the Jupyter / PlantGL module"
   ]
  },
  {
   "cell_type": "code",
   "execution_count": 8,
   "metadata": {},
   "outputs": [],
   "source": [
    "from pgljupyter import *"
   ]
  },
  {
   "cell_type": "markdown",
   "metadata": {},
   "source": [
    "Run a simple LPy module"
   ]
  },
  {
   "cell_type": "code",
   "execution_count": 9,
   "metadata": {},
   "outputs": [
    {
     "data": {
      "application/vnd.jupyter.widget-view+json": {
       "model_id": "41a26920e276408dad00a64e9d8a7ee5",
       "version_major": 2,
       "version_minor": 0
      },
      "text/plain": [
       "LsystemWidget(animate=True, derivationLength=6, is_magic=True, scene={'data': b'x\\xdaSLrw\\xf5\\xf7e`Pp\\xe0\\xe5R…"
      ]
     },
     "metadata": {},
     "output_type": "display_data"
    }
   ],
   "source": [
    "%%lpy -w 10 -a True\n",
    "from random import random \n",
    "MAX_AGE, dr = 10, 0.03 # constants\n",
    "module Apex(age), Internode(length,radius)\n",
    "Axiom: @Gc Apex(0)\n",
    "derivation length: 5\n",
    "production:\n",
    "Apex(age) :\n",
    "  if age < MAX_AGE:\n",
    "    produce Internode(1+ random(),0.03) /(137)[+(30)Apex(age+1)]Apex(age+1)\n",
    "\n",
    "Internode(l,r) --> Internode(l,r+dr)\n",
    "interpretation:\n",
    "Internode(l,r) --> _(r) F(l)\n",
    "endlsystem"
   ]
  },
  {
   "cell_type": "markdown",
   "metadata": {},
   "source": [
    "Tomato model from Fred"
   ]
  },
  {
   "cell_type": "code",
   "execution_count": 14,
   "metadata": {},
   "outputs": [
    {
     "data": {
      "application/vnd.jupyter.widget-view+json": {
       "model_id": "96ef01ddfa024aa5881fbe36eceab648",
       "version_major": 2,
       "version_minor": 0
      },
      "text/plain": [
       "LsystemWidget(animate=True, derivationLength=51, is_magic=True, scene={'data': b'x\\xdaSLrw\\xf5\\xf7e`Pp\\xe0\\xe5…"
      ]
     },
     "metadata": {},
     "output_type": "display_data"
    }
   ],
   "source": [
    "%%lpy -w 10 -a True\n",
    "from random import *\n",
    "\n",
    "module Support\n",
    "module Apex(tts)\n",
    "module DormantBud\n",
    "module Inflorescence\n",
    "\n",
    "phyllochrone = 20\n",
    "daytemp = None\n",
    "\n",
    "def StartEach():\n",
    "  global daytemp\n",
    "  daytemp = 5\n",
    "\n",
    "Axiom: Support ,(2) _(0.05) Apex(0, 1)\n",
    "\n",
    "derivation length: 50\n",
    "production:\n",
    "\n",
    "Apex(tts, state):\n",
    "  global daytemp, phyllochrone\n",
    "  if tts >= phyllochrone:\n",
    "    nproduce [ &(60) Leaf(0) ] \n",
    "    if state == 3:\n",
    "       nproduce [&(30) Inflorescence(0) ]\n",
    "    else:\n",
    "       if random() < 0.5:\n",
    "          nproduce [&(30) DormantBud(0, randint(20,30)) ]\n",
    "    state = state % 3\n",
    "    state +=1\n",
    "    tts -= phyllochrone\n",
    "  nproduce /(144) Segment()\n",
    "  produce Apex(tts+daytemp, state)\n",
    "\n",
    "\n",
    "DormantBud(tts, dtype):\n",
    "  tts+=daytemp\n",
    "  if tts >= dtype:\n",
    "    nproduce Apex(0,1)\n",
    "  else:\n",
    "    produce DormantBud(tts, dtype)\n",
    "\n",
    "interpretation:\n",
    "Segment() --> F(0.1)\n",
    "\n",
    "Leaf(tts) --> ~l(0.5)\n",
    "\n",
    "Inflorescence(tts) :\n",
    "  for i in range(5):\n",
    "    nproduce @Tp(0,0,-1) @Ts(0.2) _(0.02) F(0.2)[+(90)F(0.2) ,(3) @O(0.1)][-(90)F(0.2) ,(3) @O(0.1)]\n",
    "\n",
    "#Support :\n",
    "#  nproduce  [@M(0,1)  &(90) \n",
    "#  for i in range(20):\n",
    "#    nproduce +(30) &(-5) F(0.5) @v\n",
    "#  nproduce ]\n",
    "\n",
    "endlsystem\n"
   ]
  },
  {
   "cell_type": "markdown",
   "metadata": {},
   "source": [
    "Develop the model further"
   ]
  },
  {
   "cell_type": "code",
   "execution_count": null,
   "metadata": {},
   "outputs": [],
   "source": [
    "%%lpy -w 10 -a True\n",
    "from random import *\n",
    "\n",
    "module Support\n",
    "module Apex(tts)\n",
    "module DormantBud\n",
    "module Inflorescence\n",
    "\n",
    "phyllochrone = 20\n",
    "daytemp = None\n",
    "\n",
    "def StartEach():\n",
    "  global daytemp\n",
    "  daytemp = 5\n",
    "\n",
    "Axiom: Support ,(2) _(0.05) Apex(0, 1)\n",
    "\n",
    "derivation length: 50\n",
    "production:\n",
    "\n",
    "Apex(tts, state):\n",
    "  global daytemp, phyllochrone\n",
    "  if tts >= phyllochrone:\n",
    "    nproduce [ &(60) Leaf(0) ] \n",
    "    if state == 3:\n",
    "       nproduce [&(30) Inflorescence(0) ]\n",
    "    else:\n",
    "       if random() < 0.5:\n",
    "          nproduce [&(30) DormantBud(0, randint(20,30)) ]\n",
    "    state = state % 3\n",
    "    state +=1\n",
    "    tts -= phyllochrone\n",
    "  nproduce /(144) Segment()\n",
    "  produce Apex(tts+daytemp, state)\n",
    "\n",
    "\n",
    "DormantBud(tts, dtype):\n",
    "  tts+=daytemp\n",
    "  if tts >= dtype:\n",
    "    nproduce Apex(0,1)\n",
    "  else:\n",
    "    produce DormantBud(tts, dtype)\n",
    "\n",
    "interpretation:\n",
    "Segment() --> F(0.1)\n",
    "\n",
    "Leaf(tts) --> ~l(0.5)\n",
    "\n",
    "Inflorescence(tts) :\n",
    "  for i in range(5):\n",
    "    nproduce @Tp(0,0,-1) @Ts(0.2) _(0.02) F(0.2)[+(90)F(0.2) ,(3) @O(0.1)][-(90)F(0.2) ,(3) @O(0.1)]\n",
    "\n",
    "#Support :\n",
    "#  nproduce  [@M(0,1)  &(90) \n",
    "#  for i in range(20):\n",
    "#    nproduce +(30) &(-5) F(0.5) @v\n",
    "#  nproduce ]\n",
    "\n",
    "endlsystem"
   ]
  }
 ],
 "metadata": {
  "interpreter": {
   "hash": "4c537cbc157749f9baf3f8c7ca19b08401589334018283e78f33b2f01cc5d73d"
  },
  "kernelspec": {
   "display_name": "Python 3.9.7 64-bit ('lsystems': conda)",
   "language": "python",
   "name": "python3"
  },
  "language_info": {
   "codemirror_mode": {
    "name": "ipython",
    "version": 3
   },
   "file_extension": ".py",
   "mimetype": "text/x-python",
   "name": "python",
   "nbconvert_exporter": "python",
   "pygments_lexer": "ipython3",
   "version": "3.9.7"
  },
  "orig_nbformat": 4
 },
 "nbformat": 4,
 "nbformat_minor": 2
}
