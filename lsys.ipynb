{
 "cells": [
  {
   "cell_type": "markdown",
   "metadata": {},
   "source": []
  },
  {
   "cell_type": "markdown",
   "metadata": {},
   "source": [
    "Import the Jupyter / PlantGL module"
   ]
  },
  {
   "cell_type": "code",
   "execution_count": 69,
   "metadata": {},
   "outputs": [],
   "source": [
    "from pgljupyter import *"
   ]
  },
  {
   "cell_type": "markdown",
   "metadata": {},
   "source": [
    "Tomato model from Fred"
   ]
  },
  {
   "cell_type": "code",
   "execution_count": 71,
   "metadata": {},
   "outputs": [
    {
     "data": {
      "application/vnd.jupyter.widget-view+json": {
       "model_id": "11f16844f9854d5aaefa1e50ff710a89",
       "version_major": 2,
       "version_minor": 0
      },
      "text/plain": [
       "LsystemWidget(animate=True, derivationLength=51, is_magic=True, scene={'data': b'x\\xdaSLrw\\xf5\\xf7e`Pp\\xe0\\xe5…"
      ]
     },
     "metadata": {},
     "output_type": "display_data"
    }
   ],
   "source": [
    "%%lpy -w 10 -a True\n",
    "from random import *\n",
    "\n",
    "module Support\n",
    "module Apex(tts)\n",
    "module DormantBud\n",
    "module Inflorescence\n",
    "\n",
    "phyllochrone = 20\n",
    "daytemp = None\n",
    "\n",
    "def StartEach():\n",
    "  global daytemp\n",
    "  daytemp = 5\n",
    "\n",
    "Axiom: Support ,(2) _(0.05) Apex(0, 1)\n",
    "\n",
    "derivation length: 50\n",
    "production:\n",
    "\n",
    "Apex(tts, state):\n",
    "  global daytemp, phyllochrone\n",
    "  if tts >= phyllochrone:\n",
    "    nproduce [ &(60) Leaf(0) ] \n",
    "    if state == 3:\n",
    "       nproduce [&(30) Inflorescence(0) ]\n",
    "    else:\n",
    "       if random() < 0.5:\n",
    "          nproduce [&(30) DormantBud(0, randint(20,30)) ]\n",
    "    state = state % 3\n",
    "    state +=1\n",
    "    tts -= phyllochrone\n",
    "  nproduce /(144) Segment()\n",
    "  produce Apex(tts+daytemp, state)\n",
    "\n",
    "\n",
    "DormantBud(tts, dtype):\n",
    "  tts+=daytemp\n",
    "  if tts >= dtype:\n",
    "    nproduce Apex(0,1)\n",
    "  else:\n",
    "    produce DormantBud(tts, dtype)\n",
    "\n",
    "interpretation:\n",
    "Segment() --> F(0.1)\n",
    "Leaf(tts) --> ~l(0.5)\n",
    "Inflorescence(tts) :\n",
    "  for i in range(5):\n",
    "    nproduce @Tp(0,0,-1) @Ts(0.2) _(0.02) F(0.2)[+(90)F(0.2) ,(3) @O(0.1)][-(90)F(0.2) ,(3) @O(0.1)]\n",
    "\n",
    "#Support :\n",
    "#  nproduce  [@M(0,1)  &(90) \n",
    "#  for i in range(20):\n",
    "#    nproduce +(30) &(-5) F(0.5) @v\n",
    "#  nproduce ]\n",
    "\n",
    "endlsystem\n"
   ]
  },
  {
   "cell_type": "markdown",
   "metadata": {},
   "source": [
    "Have a go at making a simple leaf with logistic growth"
   ]
  },
  {
   "cell_type": "code",
   "execution_count": 63,
   "metadata": {},
   "outputs": [
    {
     "data": {
      "application/vnd.jupyter.widget-view+json": {
       "model_id": "87aae7cd63444bf59a1ed1ddfe708ccd",
       "version_major": 2,
       "version_minor": 0
      },
      "text/plain": [
       "LsystemWidget(animate=True, derivationLength=21, is_magic=True, scene={'data': b'x\\xdaSLrw\\xf5\\xf7e`Pp\\xe0\\xe5…"
      ]
     },
     "metadata": {},
     "output_type": "display_data"
    }
   ],
   "source": [
    "%%lpy -w 10 -a True\n",
    "\n",
    "from math import exp\n",
    "\n",
    "#this is a definition of the logistic growth function\n",
    "def growth_logistic(t, L, tip, b):\n",
    "    return L / (1+exp(-(t-tip)/b))\n",
    "\n",
    "#phyllochrone is an arbitrary measure of time\n",
    "phyllochrone = 1\n",
    "#Li is involved in Internode\n",
    "Li = 0.5\n",
    "#Lf is involved in Leaf\n",
    "Lf = 1\n",
    "#dt is a timestep\n",
    "dt = 0.5\n",
    "\n",
    "#tip is a function of time and leaf\n",
    "tip = phyllochrone/2\n",
    "#bi\n",
    "b_i = 0.15\n",
    "#bf \n",
    "b_f = 0.3\n",
    "\n",
    "#three components, Apex, Leaf and Internode\n",
    "Axiom:  I(0) L(0) A(0)\n",
    "derivation length: 20\n",
    "production:\n",
    "A(t): \n",
    "    if t > phyllochrone : produce  L(0) /(180) L(0)/(180) I(0) A(0)\n",
    "    else: produce A(t+dt)\n",
    "\n",
    "I(t) --> I(t+dt)\n",
    "L(t) --> L(t+dt)\n",
    "\n",
    "interpretation:\n",
    "I(t) --> F(growth_logistic(t, Li, tip, b_i))\n",
    "L(t) --> [&(90*min(1,t)),(2) ~l(growth_logistic(t, Lf, tip, b_f))]"
   ]
  },
  {
   "cell_type": "markdown",
   "metadata": {},
   "source": [
    "Compound tomato leaf"
   ]
  },
  {
   "cell_type": "code",
   "execution_count": 65,
   "metadata": {},
   "outputs": [
    {
     "data": {
      "application/vnd.jupyter.widget-view+json": {
       "model_id": "96638ee5491f4abe9d6675f77d6ca263",
       "version_major": 2,
       "version_minor": 0
      },
      "text/plain": [
       "LsystemWidget(animate=True, derivationLength=171, is_magic=True, scene={'data': b'x\\xdaSLrw\\xf5\\xf7e`Pp\\xe0\\xe…"
      ]
     },
     "metadata": {},
     "output_type": "display_data"
    }
   ],
   "source": [
    "%%lpy -w 10 -a True\n",
    "\n",
    "import random \n",
    "\n",
    "from numpy.random import seed\n",
    "from numpy.random import rand\n",
    "seed(1)\n",
    "\n",
    "module Leaf\n",
    "module MinLeaf\n",
    "\n",
    "leafscales = [0.5,1.5,1,0.5]\n",
    "Axiom: ,(2) _(0.05) Leaf LeafMin A(0) \n",
    "derivation length: 170\n",
    "production:\n",
    "\n",
    "#Leaf(tts) : \n",
    "# for x in leafscales:\n",
    "#   nproduce F(0.3) LeafMin(x) /(180) LeafMin(x) \n",
    "#   if x < 4:\n",
    "#    for y in range(random.randint(1, 3)):\n",
    "#      values = rand(10)\n",
    "#      nproduce F(0.2)[-~l(values[y])] /(180) [+~l(values[y])]\n",
    "# produce F(0.1)-(70) LeafMin(1)\n",
    "\n",
    "Leaf(tts): \n",
    " for x in leafscales:\n",
    "    nproduce F(0.3) LeafMin(x) /(180) LeafMin(x) \n",
    "    randchoice = random.randint(1,3)\n",
    "    for y in range(randchoice):\n",
    "     values = rand(10)\n",
    "     nproduce F(0.2)[-~l(values[y])] /(180)[+~l(values[y])]\n",
    " produce F(0.1) -(70) LeafMin(1)\n",
    "\n",
    "\n",
    "\n",
    "LeafMin(tts) :\n",
    " produce  [+(70)F(tts*0.3)&(90) [\\(120)&(90)~l(tts*0.5)] [\\(60)&(270)~l(tts*0.5)] ^(90)F(tts*0.5)~l(tts*0.7)] \n",
    "\n",
    "A(n):\n",
    "  produce F(0) Leaf(0)\n",
    "\n",
    "interpretation:\n",
    "\n",
    "endlsystem"
   ]
  },
  {
   "cell_type": "markdown",
   "metadata": {},
   "source": [
    "Working out how modules production and interpretation works"
   ]
  },
  {
   "cell_type": "code",
   "execution_count": 66,
   "metadata": {},
   "outputs": [
    {
     "data": {
      "application/vnd.jupyter.widget-view+json": {
       "model_id": "412efeb059174c609f213307f59362b8",
       "version_major": 2,
       "version_minor": 0
      },
      "text/plain": [
       "LsystemWidget(animate=True, derivationLength=11, is_magic=True, scene={'data': b'x\\xdaSLrw\\xf5\\xf7e`Pp\\xe0\\xe5…"
      ]
     },
     "metadata": {},
     "output_type": "display_data"
    }
   ],
   "source": [
    "%%lpy -w 10 -a True\n",
    "\n",
    "# Leafy axis\n",
    "from openalea.plantgl.all import *\n",
    "from math import * \n",
    "\n",
    "scaling = 5    # to dilate/contract the leaf\n",
    "phi = 180      # Phyllotactic angle\n",
    "h = 1          # height of an internode\n",
    "\n",
    "module Leaf\n",
    "module Fruit\n",
    "\n",
    "Axiom: /(90)F(h) A(0)\n",
    "derivation length: 10\n",
    "\n",
    "production:\n",
    "\n",
    "# try ^(-90)f(0.05)^(90) to translate the leaf on the periphery of the stem\n",
    "A(n):\n",
    "  produce [^(-45)Leaf(scaling)]F(h)[^(-45)Leaf(scaling)]F(h)[^(-45)Fruit(scaling)] F(h)/(phi)A(n+1) \n",
    "\n",
    "interpretation:\n",
    "maximum depth: 2\n",
    "\n",
    "# Organ definitions\n",
    "Leaf(x) --> ~l\n",
    "Fruit(x) --> F@O(0.5)\n",
    "A(n) --> ;(2) @O(0.2)\n",
    "\n",
    "\n",
    "\n",
    "\n",
    "endlsystem\n"
   ]
  },
  {
   "cell_type": "markdown",
   "metadata": {},
   "source": [
    "Try integrating new leaf and a juvenile stage into Fred's model"
   ]
  },
  {
   "cell_type": "code",
   "execution_count": 67,
   "metadata": {},
   "outputs": [
    {
     "data": {
      "application/vnd.jupyter.widget-view+json": {
       "model_id": "8d0cee90530d4602ad6437c777e9252e",
       "version_major": 2,
       "version_minor": 0
      },
      "text/plain": [
       "LsystemWidget(animate=True, derivationLength=171, is_magic=True, scene={'data': b'x\\xdaSLrw\\xf5\\xf7e`Pp\\xe0\\xe…"
      ]
     },
     "metadata": {},
     "output_type": "display_data"
    }
   ],
   "source": [
    "%%lpy -w 10 -a True\n",
    "\n",
    "from random import *\n",
    "from random import randrange\n",
    "from numpy.random import seed\n",
    "from numpy.random import rand\n",
    "\n",
    "\n",
    "module Apex\n",
    "module DormantBud\n",
    "module Inflorescence\n",
    "module LatApex\n",
    "module LeafMin\n",
    "module Leaf\n",
    "\n",
    "phyllochrone = 40\n",
    "daytemp = None\n",
    "juv = 0\n",
    "seed(1)\n",
    "leafscales = [0.5,1.5,1,0.5]\n",
    "\n",
    "def StartEach():\n",
    "  global daytemp \n",
    "  daytemp = 5\n",
    "  \n",
    "Axiom: Support ,(2) _(0.05) Apex(0, 1) Leaf LeafMin \n",
    "\n",
    "derivation length: 170\n",
    "\n",
    "production:  \n",
    "\n",
    "\n",
    "LeafMin(tts):\n",
    " produce [+(70)F(tts*0.3)&(90) [\\(120)&(90)~l(tts*0.5)] [\\(60)&(270)~l(tts*0.5)] ^(90)F(tts*0.5)~l(tts*0.7)] \n",
    "\n",
    "Leaf(tts): \n",
    " for x in leafscales:\n",
    "    nproduce F(0.3) LeafMin(x) /(180) LeafMin(x) \n",
    "    randchoice = randrange(0, 4)\n",
    "    for y in range (0,3):\n",
    "     values = rand(10)\n",
    "     nproduce F(0.2)[-~l(values[y])] /(180)[+~l(values[y])]\n",
    "    # continue\n",
    " produce F(0.1) -(70) LeafMin(1)\n",
    "\n",
    "Apex(tts, state):\n",
    " global daytemp, phyllochrone, juv\n",
    " \n",
    " if tts >= phyllochrone:\n",
    "   #nproduce [ &(60) Leaf(0) ]\n",
    "   #nproduce [ &(60)~l(1)] \n",
    "   if juv>7:\n",
    "      if random() < 0.5 and state <3 :\n",
    "        nproduce [&(30) DormantBud(0, randint(20,30)) ]\n",
    "        state +=1\n",
    "      elif state == 3:\n",
    "        #nproduce [ &(60) Leaf(0) ]\n",
    "        #nproduce [ &(60)~l(1)] \n",
    "        nproduce [&(30) Inflorescence(0) ]\n",
    "        state = 0\n",
    "      else:\n",
    "        nproduce [ &(60) Leaf(0) ]\n",
    "        #nproduce [~l(1)]\n",
    "        state +=1\n",
    "   else:\n",
    "       nproduce [ &(60) Leaf(0) ]\n",
    "      #nproduce [ &(60)~l(1)]\n",
    "   \n",
    "   juv +=1\n",
    "   tts -= phyllochrone\n",
    " \n",
    " nproduce /(144) Segment()\n",
    " produce Apex(tts+daytemp, state)\n",
    "\n",
    "LatApex(tts, state):\n",
    "  global daytemp, phyllochrone\n",
    "  if tts >= phyllochrone:\n",
    "    nproduce [ &(60) Leaf(0) ] \n",
    "    #nproduce [ &(60)~l(1)]\n",
    "    if state == 3:\n",
    "      nproduce [&(30) Inflorescence(0) ]\n",
    "    else:\n",
    "       if random() < 0.5:\n",
    "          nproduce [&(30) DormantBud(0, randint(20,30)) ]\n",
    "    state = state % 3\n",
    "    state +=1\n",
    "    tts -= phyllochrone\n",
    "  nproduce /(144) Segment()\n",
    "  produce LatApex(tts+daytemp, state)\n",
    "\n",
    "DormantBud(tts, dtype):\n",
    "  tts+=daytemp\n",
    "  if tts >= dtype:\n",
    "    nproduce LatApex(0,1)\n",
    "  else:\n",
    "    produce DormantBud(tts, dtype)\n",
    "\n",
    "interpretation:\n",
    "\n",
    "Segment() --> F(0.1)\n",
    "\n",
    "Inflorescence(tts):\n",
    "  for i in range(5):\n",
    "   nproduce @Tp(0,0,-1) @Ts(0.2) _(0.02) F(0.2)[+(90)F(0.2) ,(3) @O(0.1)][-(90)F(0.2) ,(3) @O(0.1)]\n",
    "\n",
    "endlsystem"
   ]
  },
  {
   "cell_type": "markdown",
   "metadata": {},
   "source": [
    "Try to flip leaf from production to interpretation"
   ]
  },
  {
   "cell_type": "code",
   "execution_count": 68,
   "metadata": {},
   "outputs": [
    {
     "data": {
      "application/vnd.jupyter.widget-view+json": {
       "model_id": "d788fb011e824a92a0f8e37ecdd0a6d8",
       "version_major": 2,
       "version_minor": 0
      },
      "text/plain": [
       "LsystemWidget(animate=True, derivationLength=171, is_magic=True, scene={'data': b'x\\xdaSLrw\\xf5\\xf7e`Pp\\xe0\\xe…"
      ]
     },
     "metadata": {},
     "output_type": "display_data"
    }
   ],
   "source": [
    "%%lpy -w 10 -a True\n",
    "\n",
    "from random import *\n",
    "from random import randrange\n",
    "from numpy.random import seed\n",
    "from numpy.random import rand\n",
    "\n",
    "\n",
    "module Apex\n",
    "module DormantBud\n",
    "module Inflorescence\n",
    "module LatApex\n",
    "module LeafMin\n",
    "module Leaf\n",
    "\n",
    "phyllochrone = 40\n",
    "daytemp = None\n",
    "juv = 0\n",
    "seed(1)\n",
    "leafscales = [0.5,1.5,1,0.5]\n",
    "\n",
    "def StartEach():\n",
    "  global daytemp \n",
    "  daytemp = 5\n",
    "  \n",
    "Axiom: Support ,(2) _(0.05) Apex(0, 1) Leaf LeafMin \n",
    "\n",
    "derivation length: 170\n",
    "\n",
    "production:  \n",
    "\n",
    "Apex(tts, state):\n",
    " global daytemp, phyllochrone, juv\n",
    " \n",
    " if tts >= phyllochrone:\n",
    "   #nproduce [ &(60) Leaf(tts) ]\n",
    "   #nproduce [ &(60)~l(1)] \n",
    "   if juv>7:\n",
    "      if random() < 0.5 and state <3 :\n",
    "        nproduce [&(30) DormantBud(0, randint(20,30)) ]\n",
    "        state +=1\n",
    "      elif state == 3:\n",
    "        #nproduce [ &(60) Leaf(tts) ]\n",
    "        #nproduce [ &(60)~l(1)] \n",
    "        nproduce [&(30) Inflorescence(0) ]\n",
    "        state = 0\n",
    "      else:\n",
    "        nproduce [ &(60) Leaf(0) ]\n",
    "        #nproduce [~l(1)]\n",
    "        state +=1\n",
    "   else:\n",
    "       nproduce [ &(60) Leaf(0) ]\n",
    "      #nproduce [ &(60)~l(1)]\n",
    "   \n",
    "   juv +=1\n",
    "   tts -= phyllochrone\n",
    " \n",
    " nproduce /(144) Segment()\n",
    " produce Apex(tts+daytemp, state)\n",
    "\n",
    "LatApex(tts, state):\n",
    "  global daytemp, phyllochrone\n",
    "  if tts >= phyllochrone:\n",
    "    nproduce [ &(60) Leaf(tts) ] \n",
    "    #nproduce [ &(60)~l(1)]\n",
    "    if state == 3:\n",
    "      nproduce [&(30) Inflorescence(0) ]\n",
    "    else:\n",
    "       if random() < 0.5:\n",
    "          nproduce [&(30) DormantBud(0, randint(20,30)) ]\n",
    "    state = state % 3\n",
    "    state +=1\n",
    "    tts -= phyllochrone\n",
    "  nproduce /(144) Segment()\n",
    "  produce LatApex(tts+daytemp, state)\n",
    "\n",
    "DormantBud(tts, dtype):\n",
    "  tts+=daytemp\n",
    "  if tts >= dtype:\n",
    "    nproduce LatApex(0,1)\n",
    "  else:\n",
    "    produce DormantBud(tts, dtype)\n",
    "\n",
    "interpretation:\n",
    "\n",
    "Segment() --> F(0.1)\n",
    "\n",
    "Inflorescence(tts):\n",
    "  for i in range(5):\n",
    "   nproduce @Tp(0,0,-1) @Ts(0.2) _(0.02) F(0.2)[+(90)F(0.2) ,(3) @O(0.1)][-(90)F(0.2) ,(3) @O(0.1)]\n",
    "\n",
    "#LeafMin(tts):\n",
    "# produce [+(70)F(tts*0.3)&(90) [\\(120)&(90)~l(tts*0.5)] [\\(60)&(270)~l(tts*0.5)] ^(90)F(tts*0.5)~l(tts*0.7)] \n",
    "\n",
    "Leaf(tts):\n",
    " produce F(0.3) LeafMin() /(180) LeafMin()\n",
    "\n",
    "LeafMin :\n",
    " produce [+(70)F(1*0.3)&(90) [\\(120)&(90)~l(1*0.5)] [\\(60)&(270)~l(1*0.5)] ^(90)F(1*0.5)~l(1*0.7)]\n",
    "\n",
    "#Leaf(tts): \n",
    "# for x in leafscales:\n",
    "#    nproduce F(0.3) LeafMin(x) /(180) LeafMin(x) \n",
    "#    randchoice = randrange(0, 4)\n",
    "#    for y in range (0,3):\n",
    "#     values = rand(10)\n",
    "#     nproduce F(0.2)[-~l(values[y])] /(180)[+~l(values[y])]\n",
    "#    # continue\n",
    "# produce F(0.1) -(70) LeafMin(tts)\n",
    "\n",
    "\n",
    "\n",
    "\n",
    "endlsystem"
   ]
  }
 ],
 "metadata": {
  "interpreter": {
   "hash": "4c537cbc157749f9baf3f8c7ca19b08401589334018283e78f33b2f01cc5d73d"
  },
  "kernelspec": {
   "display_name": "Python 3.9.7 64-bit ('lsystems': conda)",
   "language": "python",
   "name": "python3"
  },
  "language_info": {
   "codemirror_mode": {
    "name": "ipython",
    "version": 3
   },
   "file_extension": ".py",
   "mimetype": "text/x-python",
   "name": "python",
   "nbconvert_exporter": "python",
   "pygments_lexer": "ipython3",
   "version": "3.9.7"
  },
  "orig_nbformat": 4
 },
 "nbformat": 4,
 "nbformat_minor": 2
}
